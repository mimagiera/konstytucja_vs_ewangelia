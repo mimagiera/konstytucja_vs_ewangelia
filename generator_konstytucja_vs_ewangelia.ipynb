{
 "cells": [
  {
   "cell_type": "code",
   "execution_count": 2,
   "metadata": {},
   "outputs": [],
   "source": [
    "import re\n",
    "import csv"
   ]
  },
  {
   "cell_type": "code",
   "execution_count": 3,
   "metadata": {},
   "outputs": [],
   "source": [
    "filename_konstytucja='konstytucja_surowa.txt'\n",
    "konstytucja_contents =  open(filename_konstytucja, 'r', encoding='utf-8').read()\n",
    "\n",
    "filename_ewangelia='ewangelia_mateusza_surowa.txt'\n",
    "ewangelia_contents =  open(filename_ewangelia, 'r', encoding='utf-8').read()"
   ]
  },
  {
   "cell_type": "code",
   "execution_count": 4,
   "metadata": {},
   "outputs": [],
   "source": [
    "header_text = 'text'\n",
    "header_labels = 'labels'"
   ]
  },
  {
   "cell_type": "code",
   "execution_count": 5,
   "metadata": {},
   "outputs": [],
   "source": [
    "def create_konstytucja():\n",
    "    konstytucja=[]\n",
    "    for entry in konstytucja_contents.replace('\\n', '').replace('ust.', 'ustawa').replace('art.', 'artykuł').split('.'):\n",
    "        text = entry.replace('artykuł', 'art.').strip()\n",
    "        if (not text.isdigit()):\n",
    "            if (not text.startswith('Rozdział') and not text in ['Art', '']):\n",
    "                konstytucja.append({header_text: text, header_labels: 'konstytucja'})\n",
    "    return konstytucja"
   ]
  },
  {
   "cell_type": "code",
   "execution_count": 6,
   "metadata": {},
   "outputs": [],
   "source": [
    "def create_ewangelia():\n",
    "    ewangelia=[]\n",
    "    for entry in ewangelia_contents.replace('\\n', '').replace('!', '.').replace('?','.').split('.'):\n",
    "        text = re.sub('\\((\\d+)\\)', '', entry)\n",
    "        text = text.strip()\n",
    "        if not text == '':\n",
    "            ewangelia.append({header_text: text, header_labels: 'ewangelia'})\n",
    "    return ewangelia"
   ]
  },
  {
   "cell_type": "code",
   "execution_count": 7,
   "metadata": {},
   "outputs": [],
   "source": [
    "konstytucja = create_konstytucja()\n",
    "ewangelia = create_ewangelia()\n",
    "with open('konstytucja_vs_ewangelia.csv', 'w', newline='') as csvfile:\n",
    "    fieldnames = [header_text, header_labels]\n",
    "    writer = csv.DictWriter(csvfile, fieldnames=fieldnames, delimiter=';')\n",
    "    \n",
    "    writer.writeheader()\n",
    "    for line in konstytucja:\n",
    "        writer.writerow(line)\n",
    "    for line in ewangelia:\n",
    "        writer.writerow(line)"
   ]
  }
 ],
 "metadata": {
  "kernelspec": {
   "display_name": "Python 3",
   "language": "python",
   "name": "python3"
  },
  "language_info": {
   "codemirror_mode": {
    "name": "ipython",
    "version": 3
   },
   "file_extension": ".py",
   "mimetype": "text/x-python",
   "name": "python",
   "nbconvert_exporter": "python",
   "pygments_lexer": "ipython3",
   "version": "3.7.1"
  }
 },
 "nbformat": 4,
 "nbformat_minor": 4
}
